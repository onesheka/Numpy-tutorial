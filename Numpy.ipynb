{
 "cells": [
  {
   "cell_type": "markdown",
   "metadata": {},
   "source": [
    "NUMPY: It works on N-darray(N-directional array). "
   ]
  },
  {
   "cell_type": "code",
   "execution_count": 1,
   "metadata": {},
   "outputs": [],
   "source": [
    "import numpy as np"
   ]
  },
  {
   "cell_type": "markdown",
   "metadata": {},
   "source": [
    "### np.array"
   ]
  },
  {
   "cell_type": "code",
   "execution_count": 2,
   "metadata": {},
   "outputs": [
    {
     "name": "stdout",
     "output_type": "stream",
     "text": [
      "<class 'numpy.ndarray'>\n"
     ]
    }
   ],
   "source": [
    "l = [1,2,3,5]\n",
    "ndarray_1d = np.array(l) #creating a vectorized 1d array using np.array\n",
    "print(type(ndarray_1d))"
   ]
  },
  {
   "cell_type": "markdown",
   "metadata": {},
   "source": [
    "### Adding to each value of an array without iterations"
   ]
  },
  {
   "cell_type": "code",
   "execution_count": 3,
   "metadata": {},
   "outputs": [
    {
     "name": "stdout",
     "output_type": "stream",
     "text": [
      "[1 2 3 5]\n",
      "[3 4 5 7]\n"
     ]
    }
   ],
   "source": [
    "print(ndarray_1d)\n",
    "ndarray_1d = ndarray_1d + 2 #adding 2 to each value of the array\n",
    "print(ndarray_1d)\n",
    "# we cannot extend the length of the ndarray unlike lists."
   ]
  },
  {
   "cell_type": "markdown",
   "metadata": {},
   "source": [
    "### Converting the array back to python lists"
   ]
  },
  {
   "cell_type": "code",
   "execution_count": 4,
   "metadata": {},
   "outputs": [
    {
     "name": "stdout",
     "output_type": "stream",
     "text": [
      "<class 'list'>\n",
      "[3, 4, 5, 7]\n"
     ]
    }
   ],
   "source": [
    "array_to_list = ndarray_1d.tolist()\n",
    "print(type(array_to_list))\n",
    "print(array_to_list)"
   ]
  },
  {
   "cell_type": "markdown",
   "metadata": {},
   "source": [
    "### Extracting info about an already created array - no of rows,cols datatype, dimensions, size"
   ]
  },
  {
   "cell_type": "code",
   "execution_count": 5,
   "metadata": {},
   "outputs": [
    {
     "name": "stdout",
     "output_type": "stream",
     "text": [
      "(3, 4)\n",
      "int32\n",
      "2\n",
      "12\n"
     ]
    }
   ],
   "source": [
    "list_of_lists = [[1,1,1,1],[2,2,2,2],[1,2,3,4]]\n",
    "nd_2darray = np.array(list_of_lists)\n",
    "# now of rows and columns through --- SHAPE\n",
    "print(nd_2darray.shape)\n",
    "# datatype --- DTYPE\n",
    "print(nd_2darray.dtype)\n",
    "# no of dimensions --- NDIM\n",
    "print(nd_2darray.ndim)\n",
    "# size of the array --- SIZE\n",
    "print(nd_2darray.size)"
   ]
  },
  {
   "cell_type": "markdown",
   "metadata": {},
   "source": [
    "### Extracting items from arrays"
   ]
  },
  {
   "cell_type": "code",
   "execution_count": 6,
   "metadata": {},
   "outputs": [
    {
     "name": "stdout",
     "output_type": "stream",
     "text": [
      "[2 2]\n"
     ]
    }
   ],
   "source": [
    "print(nd_2darray[1:,1]) #1st row onwards(:) and 1 column element"
   ]
  },
  {
   "cell_type": "markdown",
   "metadata": {},
   "source": [
    "### BOOLEAN INDEXING "
   ]
  },
  {
   "cell_type": "code",
   "execution_count": 7,
   "metadata": {},
   "outputs": [
    {
     "name": "stdout",
     "output_type": "stream",
     "text": [
      "[[ True  True  True  True]\n",
      " [False False False False]\n",
      " [ True False False False]]\n"
     ]
    }
   ],
   "source": [
    "nd_2darray_bool = nd_2darray == 1 ##using comparison operations. Result in form of boolean.\n",
    "print(nd_2darray_bool)"
   ]
  },
  {
   "cell_type": "markdown",
   "metadata": {},
   "source": [
    "###  Reversing the rows, cols or both"
   ]
  },
  {
   "cell_type": "code",
   "execution_count": 8,
   "metadata": {},
   "outputs": [
    {
     "name": "stdout",
     "output_type": "stream",
     "text": [
      "[[1 2 3 4]\n",
      " [2 2 2 2]\n",
      " [1 1 1 1]]\n",
      "\n",
      "[[4 3 2 1]\n",
      " [2 2 2 2]\n",
      " [1 1 1 1]]\n"
     ]
    }
   ],
   "source": [
    "reverse_array_rows = nd_2darray[::-1,] #reversing only the rows\n",
    "print(reverse_array_rows)\n",
    "print(\"\")\n",
    "reverse_array_rows_and_cols = nd_2darray[::-1,::-1]\n",
    "print(reverse_array_rows_and_cols) #reversing both rows and cols"
   ]
  },
  {
   "cell_type": "markdown",
   "metadata": {},
   "source": [
    "### Representing Not a number(NaN) and infinite values\n",
    "and\n",
    "### Converting nan and inf back to a value"
   ]
  },
  {
   "cell_type": "code",
   "execution_count": 9,
   "metadata": {},
   "outputs": [
    {
     "name": "stdout",
     "output_type": "stream",
     "text": [
      "[[ 1.  2.  3.]\n",
      " [ 4. nan inf]\n",
      " [ 7.  8.  9.]]\n",
      "[[ 1.  2.  3.]\n",
      " [ 4. -1. -1.]\n",
      " [ 7.  8.  9.]]\n"
     ]
    }
   ],
   "source": [
    "l4 = [[1,2,3],[4,5,6],[7,8,9]]\n",
    "arr2 = np.array(l4, dtype = \"float\")\n",
    "arr2[1][1] = np.nan #specifying not a number\n",
    "arr2[1][2] = np.inf #specifying infinite value\n",
    "print(arr2)\n",
    "\n",
    "missing_value_bool = np.isnan(arr2) | np.isinf(arr2) ## use ISNAN and ISINF\n",
    "arr2[missing_value_bool] = -1\n",
    "print(arr2)"
   ]
  },
  {
   "cell_type": "markdown",
   "metadata": {},
   "source": [
    "### computing mean, min, max of the entire matrix, of a particular row/column, cumilative sum"
   ]
  },
  {
   "cell_type": "code",
   "execution_count": 10,
   "metadata": {},
   "outputs": [
    {
     "name": "stdout",
     "output_type": "stream",
     "text": [
      "3.5555555555555554\n",
      "-1.0\n",
      "9.0\n",
      "[ 1. -1.  7.]\n"
     ]
    }
   ],
   "source": [
    "###### Of the entire matrix\n",
    "mean = arr2.mean()\n",
    "print(mean)\n",
    "min = arr2.min()\n",
    "print(min)\n",
    "max = arr2.max()\n",
    "print(max)\n",
    "\n",
    "###### Of a particular row or column\n",
    "mean_of_row = np.amin(arr2, axis = 1)\n",
    "print(mean_of_row)\n",
    "\n",
    "############# Cumilative sum\n",
    "cum_sum = np.cumsum(arr2)\n",
    "\n",
    "####\n",
    "### np.apply_over_axis ----> later on"
   ]
  },
  {
   "cell_type": "markdown",
   "metadata": {},
   "source": [
    "### Creating new arrays from the existing arrays"
   ]
  },
  {
   "cell_type": "code",
   "execution_count": 11,
   "metadata": {},
   "outputs": [
    {
     "name": "stdout",
     "output_type": "stream",
     "text": [
      "[[ -1.  -1.]\n",
      " [  8. 100.]]\n",
      "[[ 1.  2.  3.]\n",
      " [ 4. -1. -1.]\n",
      " [ 7.  8.  9.]]\n"
     ]
    }
   ],
   "source": [
    "new_arr2 = arr2[1:,1:].copy() ## v.imp to copy otherwise will reflect changes in the main array as well\n",
    "new_arr2[1][1] = 100\n",
    "print(new_arr2)\n",
    "print(arr2)"
   ]
  },
  {
   "cell_type": "markdown",
   "metadata": {},
   "source": [
    "### Reshaping and Flattening 2d arrays - Reshape, flatten and ravel"
   ]
  },
  {
   "cell_type": "code",
   "execution_count": 12,
   "metadata": {},
   "outputs": [
    {
     "name": "stdout",
     "output_type": "stream",
     "text": [
      "[[ 1  2  3]\n",
      " [ 4  5  6]\n",
      " [ 7  8  9]\n",
      " [10 11 12]]\n",
      "[ 1  2  3  4  5  6  7  8  9 10 11 12]\n",
      "[[ 1  2  3  4]\n",
      " [ 5  6  7  8]\n",
      " [ 9 10 11 12]]\n",
      "[[ 1  2 -1  4]\n",
      " [ 5  6  7  8]\n",
      " [ 9 10 11 12]]\n"
     ]
    }
   ],
   "source": [
    "l5 = [[1,2,3,4],[5,6,7,8],[9,10,11,12]]\n",
    "arr3 = np.array(l5) \n",
    "print(arr3.reshape(4,3)) #### Reshaping the 2d array\n",
    "\n",
    "arr3_flatten = arr3.flatten()\n",
    "print(arr3_flatten)  ##  flatten creates a copy of the original and hence doesnt change any values in the original\n",
    "arr3_flatten[2] = -1  \n",
    "print(arr3)\n",
    "\n",
    "arr3_ravel = arr3.ravel()\n",
    "arr3_ravel[2] = -1   ## ravel doesn't create any copy, saves memory but does changes to the original array\n",
    "print(arr3)"
   ]
  },
  {
   "cell_type": "markdown",
   "metadata": {},
   "source": [
    "### np.arrange function"
   ]
  },
  {
   "cell_type": "code",
   "execution_count": 17,
   "metadata": {},
   "outputs": [
    {
     "name": "stdout",
     "output_type": "stream",
     "text": [
      "[0 1 2 3 4 5 6 7 8 9]\n",
      "[15 14 13 12 11 10  9  8  7  6  5  4  3  2  1]\n",
      "[0 2 4 6 8]\n"
     ]
    }
   ],
   "source": [
    "print(np.arange(0,10))  ## single 'r' in arange\n",
    "print(np.arange(15,0,-1))\n",
    "print(np.arange(0,10,2))"
   ]
  },
  {
   "cell_type": "markdown",
   "metadata": {},
   "source": [
    "### np.linspace    ###np.logspace"
   ]
  },
  {
   "cell_type": "code",
   "execution_count": 25,
   "metadata": {},
   "outputs": [
    {
     "name": "stdout",
     "output_type": "stream",
     "text": [
      "[ 1  6 11 17 22 28 33 39 44 50]\n"
     ]
    }
   ],
   "source": [
    "print(np.linspace(start=1,stop=50,num=10,dtype=int))\n",
    "#####logspace is used for handling logs(not mentioned here)"
   ]
  },
  {
   "cell_type": "markdown",
   "metadata": {},
   "source": [
    "### np.zeroes and  np.ones"
   ]
  },
  {
   "cell_type": "code",
   "execution_count": 24,
   "metadata": {},
   "outputs": [
    {
     "name": "stdout",
     "output_type": "stream",
     "text": [
      "[[0. 0.]\n",
      " [0. 0.]]\n",
      "[[1. 1.]\n",
      " [1. 1.]]\n"
     ]
    }
   ],
   "source": [
    "arr = np.zeros([2,2])\n",
    "print(arr)\n",
    "\n",
    "arr2 = np.ones([2,2])\n",
    "print(arr2)"
   ]
  },
  {
   "cell_type": "markdown",
   "metadata": {},
   "source": [
    "### np.tile and np.repeat"
   ]
  },
  {
   "cell_type": "code",
   "execution_count": 29,
   "metadata": {},
   "outputs": [
    {
     "name": "stdout",
     "output_type": "stream",
     "text": [
      "[1 3 5 1 3 5]\n",
      "[1 1 3 3 5 5]\n"
     ]
    }
   ],
   "source": [
    "l = [1,3,5]\n",
    "print(np.tile(l,2))\n",
    "print(np.repeat(l,2))"
   ]
  },
  {
   "cell_type": "markdown",
   "metadata": {},
   "source": [
    "### Generating random numbers"
   ]
  },
  {
   "cell_type": "code",
   "execution_count": 43,
   "metadata": {},
   "outputs": [
    {
     "name": "stdout",
     "output_type": "stream",
     "text": [
      "[[0.90663178 0.48430543]\n",
      " [0.49283511 0.10573957]]\n",
      "[[-0.39786801  0.68586209]\n",
      " [-1.45933708  0.04894316]]\n",
      "[[ 7  1 16]\n",
      " [ 0 15  8]\n",
      " [15 17  1]]\n",
      "0.5763320838829903\n",
      "[[0.13266678 0.92864167]\n",
      " [0.90011155 0.77373176]]\n",
      "['u' 'e']\n",
      "['a' 'a' 'u']\n"
     ]
    }
   ],
   "source": [
    "print(np.random.rand(2,2))  ##random function between [0,1)\n",
    "print(np.random.randn(2,2)) ##clear this out yourself\n",
    "print(np.random.randint(0,20,size = [3,3])) ## random numbers between specified range,[0-20) here\n",
    "print(np.random.random()) ##prints one random number between (0-1]\n",
    "print(np.random.random(size=[2,2])) ## of size 2*2\n",
    "print(np.random.choice(['a','e','i','o','u'],size = 2)) ##randomly selects any 2 with equal probability\n",
    "print(np.random.choice(['a','e','i','o','u'],size = 3,p=[0.5,0.1,0.1,0.1,0.2])) ##clearly more number of a's as probaility of a is 0.5\n"
   ]
  },
  {
   "cell_type": "markdown",
   "metadata": {},
   "source": [
    "### seed the random numbers"
   ]
  },
  {
   "cell_type": "code",
   "execution_count": 44,
   "metadata": {},
   "outputs": [
    {
     "name": "stdout",
     "output_type": "stream",
     "text": [
      "[[0.54340494 0.27836939]\n",
      " [0.42451759 0.84477613]]\n",
      "[[0.54340494 0.27836939]\n",
      " [0.42451759 0.84477613]]\n"
     ]
    }
   ],
   "source": [
    "rn = np.random.RandomState(100) ##Create the random state\n",
    "print(rn.rand(2,2)) ##printing random numbers between [0,1)\n",
    "np.random.seed(100) ##setting the seed\n",
    "print(np.random.rand(2,2))\n",
    "\n",
    "\n"
   ]
  },
  {
   "cell_type": "markdown",
   "metadata": {},
   "source": [
    "### getting unique items"
   ]
  },
  {
   "cell_type": "code",
   "execution_count": 47,
   "metadata": {},
   "outputs": [
    {
     "name": "stdout",
     "output_type": "stream",
     "text": [
      "[8 8 3 7 7 0 4 2 5 2]\n",
      "Unique items :  [0 2 3 4 5 7 8]\n",
      "Counts :  [1 2 1 1 1 2 2]\n"
     ]
    }
   ],
   "source": [
    "# Create random integers of size 10 between [0,10)\n",
    "np.random.seed(100)\n",
    "arr_rand = np.random.randint(0, 10, size=10)\n",
    "print(arr_rand)\n",
    "\n",
    "uniqs, counts = np.unique(arr_rand, return_counts=True)\n",
    "print(\"Unique items : \", uniqs)\n",
    "print(\"Counts : \", counts)\n"
   ]
  },
  {
   "cell_type": "code",
   "execution_count": null,
   "metadata": {},
   "outputs": [],
   "source": []
  }
 ],
 "metadata": {
  "kernelspec": {
   "display_name": "Python 3",
   "language": "python",
   "name": "python3"
  },
  "language_info": {
   "codemirror_mode": {
    "name": "ipython",
    "version": 3
   },
   "file_extension": ".py",
   "mimetype": "text/x-python",
   "name": "python",
   "nbconvert_exporter": "python",
   "pygments_lexer": "ipython3",
   "version": "3.6.5"
  }
 },
 "nbformat": 4,
 "nbformat_minor": 2
}
